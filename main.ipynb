{
    "cells": [
        {
            "cell_type": "code",
            "execution_count": 7,
            "metadata": {},
            "outputs": [
                {
                    "name": "stdout",
                    "output_type": "stream",
                    "text": [
                        "The autoreload extension is already loaded. To reload it, use:\n",
                        "  %reload_ext autoreload\n"
                    ]
                },
                {
                    "data": {
                        "text/plain": [
                            "US Gross                  3060\n",
                            "Worldwide Gross           3074\n",
                            "US DVD Sales               564\n",
                            "Production Budget          381\n",
                            "MPAA Rating                  7\n",
                            "Running Time min           109\n",
                            "Distributor                174\n",
                            "Source                      18\n",
                            "Major Genre                 12\n",
                            "Creative Type                9\n",
                            "Director                   550\n",
                            "Rotten Tomatoes Rating     100\n",
                            "IMDB Rating                 77\n",
                            "IMDB Votes                2839\n",
                            "dtype: int64"
                        ]
                    },
                    "metadata": {},
                    "output_type": "display_data"
                },
                {
                    "name": "stdout",
                    "output_type": "stream",
                    "text": [
                        "<class 'pandas.core.frame.DataFrame'>\n",
                        "RangeIndex: 3201 entries, 0 to 3200\n",
                        "Data columns (total 14 columns):\n",
                        " #   Column                  Non-Null Count  Dtype  \n",
                        "---  ------                  --------------  -----  \n",
                        " 0   US Gross                3194 non-null   float64\n",
                        " 1   Worldwide Gross         3194 non-null   float64\n",
                        " 2   US DVD Sales            564 non-null    float64\n",
                        " 3   Production Budget       3200 non-null   float64\n",
                        " 4   MPAA Rating             2596 non-null   object \n",
                        " 5   Running Time min        1209 non-null   float64\n",
                        " 6   Distributor             2969 non-null   object \n",
                        " 7   Source                  2836 non-null   object \n",
                        " 8   Major Genre             2926 non-null   object \n",
                        " 9   Creative Type           2755 non-null   object \n",
                        " 10  Director                1870 non-null   object \n",
                        " 11  Rotten Tomatoes Rating  2321 non-null   float64\n",
                        " 12  IMDB Rating             2988 non-null   float64\n",
                        " 13  IMDB Votes              2988 non-null   float64\n",
                        "dtypes: float64(8), object(6)\n",
                        "memory usage: 350.2+ KB\n"
                    ]
                }
            ],
            "source": [
                "%load_ext autoreload\n",
                "%autoreload 2\n",
                "from src import Columbus\n",
                "import pandas as pd \n",
                "\n",
                "df = pd.read_json(\"./movies.json\")\n",
                "\n",
                "df.drop(columns=[\"Release Date\", \"Title\"], inplace=True)\n",
                "\n",
                "# number of unique values\n",
                "display(df.nunique())\n",
                "\n",
                "df.head()\n",
                "df.info()"
            ]
        },
        {
            "cell_type": "code",
            "execution_count": 9,
            "metadata": {},
            "outputs": [
                {
                    "name": "stderr",
                    "output_type": "stream",
                    "text": [
                        "/Users/jasonchoi3/git/columbus/src/space/Columbus.py:22: NumbaWarning: \n",
                        "Compilation is falling back to object mode WITH looplifting enabled because Function \"__init__\" failed type inference due to: Untyped global name 'Attribute': Cannot determine Numba type of <class 'type'>\n",
                        "\n",
                        "File \"src/space/Columbus.py\", line 29:\n",
                        "    def __init__(self, df: pd.DataFrame):\n",
                        "        <source elided>\n",
                        "        self.attrs: list[\"Attribute\"] = [\n",
                        "            Attribute(str(name), type, False)\n",
                        "            ^\n",
                        "\n",
                        "  @jit\n",
                        "/Users/jasonchoi3/git/columbus/src/space/Columbus.py:22: NumbaWarning: \n",
                        "Compilation is falling back to object mode WITHOUT looplifting enabled because Function \"__init__\" failed type inference due to: Untyped global name 'Attribute': Cannot determine Numba type of <class 'type'>\n",
                        "\n",
                        "File \"src/space/Columbus.py\", line 29:\n",
                        "    def __init__(self, df: pd.DataFrame):\n",
                        "        <source elided>\n",
                        "        self.attrs: list[\"Attribute\"] = [\n",
                        "            Attribute(str(name), type, False)\n",
                        "            ^\n",
                        "\n",
                        "  @jit\n",
                        "/Users/jasonchoi3/miniforge3/envs/columbus/lib/python3.9/site-packages/numba/core/object_mode_passes.py:151: NumbaWarning: Function \"__init__\" was compiled in object mode without forceobj=True, but has lifted loops.\n",
                        "\n",
                        "File \"src/space/Columbus.py\", line 24:\n",
                        "    def __init__(self, df: pd.DataFrame):\n",
                        "        self.df = df\n",
                        "        ^\n",
                        "\n",
                        "  warnings.warn(errors.NumbaWarning(warn_msg,\n",
                        "/Users/jasonchoi3/miniforge3/envs/columbus/lib/python3.9/site-packages/numba/core/object_mode_passes.py:161: NumbaDeprecationWarning: \n",
                        "Fall-back from the nopython compilation path to the object mode compilation path has been detected, this is deprecated behaviour.\n",
                        "\n",
                        "For more information visit https://numba.readthedocs.io/en/stable/reference/deprecation.html#deprecation-of-object-mode-fall-back-behaviour-when-using-jit\n",
                        "\n",
                        "File \"src/space/Columbus.py\", line 24:\n",
                        "    def __init__(self, df: pd.DataFrame):\n",
                        "        self.df = df\n",
                        "        ^\n",
                        "\n",
                        "  warnings.warn(errors.NumbaDeprecationWarning(msg,\n",
                        "/Users/jasonchoi3/git/columbus/src/space/Columbus.py:22: NumbaWarning: \n",
                        "Compilation is falling back to object mode WITHOUT looplifting enabled because Function \"__init__\" failed type inference due to: Untyped global name 'combinations': Cannot determine Numba type of <class 'type'>\n",
                        "\n",
                        "File \"src/space/Columbus.py\", line 36:\n",
                        "    def __init__(self, df: pd.DataFrame):\n",
                        "        <source elided>\n",
                        "        for i in range(1, MAX_TARGET_ATTRIBUTES + 1):\n",
                        "            for comb in combinations(self.attrs, i):\n",
                        "            ^\n",
                        "\n",
                        "  @jit\n",
                        "/Users/jasonchoi3/miniforge3/envs/columbus/lib/python3.9/site-packages/numba/core/object_mode_passes.py:151: NumbaWarning: Function \"__init__\" was compiled in object mode without forceobj=True.\n",
                        "\n",
                        "File \"src/space/Columbus.py\", line 35:\n",
                        "    def __init__(self, df: pd.DataFrame):\n",
                        "        <source elided>\n",
                        "        # get {(n + 2) (n + 1) n / 6} combinations of attributes\n",
                        "        for i in range(1, MAX_TARGET_ATTRIBUTES + 1):\n",
                        "        ^\n",
                        "\n",
                        "  warnings.warn(errors.NumbaWarning(warn_msg,\n",
                        "/Users/jasonchoi3/miniforge3/envs/columbus/lib/python3.9/site-packages/numba/core/object_mode_passes.py:161: NumbaDeprecationWarning: \n",
                        "Fall-back from the nopython compilation path to the object mode compilation path has been detected, this is deprecated behaviour.\n",
                        "\n",
                        "For more information visit https://numba.readthedocs.io/en/stable/reference/deprecation.html#deprecation-of-object-mode-fall-back-behaviour-when-using-jit\n",
                        "\n",
                        "File \"src/space/Columbus.py\", line 35:\n",
                        "    def __init__(self, df: pd.DataFrame):\n",
                        "        <source elided>\n",
                        "        # get {(n + 2) (n + 1) n / 6} combinations of attributes\n",
                        "        for i in range(1, MAX_TARGET_ATTRIBUTES + 1):\n",
                        "        ^\n",
                        "\n",
                        "  warnings.warn(errors.NumbaDeprecationWarning(msg,\n"
                    ]
                },
                {
                    "name": "stdout",
                    "output_type": "stream",
                    "text": [
                        "1470\n",
                        "51501\n"
                    ]
                }
            ],
            "source": [
                "taeva = Columbus(df)\n",
                "print(len(taeva.nodes))\n",
                "# for node in taeva.nodes:\n",
                "#     print(node)\n",
                "#     print()\n",
                "#     print()"
            ]
        }
    ],
    "metadata": {
        "kernelspec": {
            "display_name": "columbus",
            "language": "python",
            "name": "python3"
        },
        "language_info": {
            "codemirror_mode": {
                "name": "ipython",
                "version": 3
            },
            "file_extension": ".py",
            "mimetype": "text/x-python",
            "name": "python",
            "nbconvert_exporter": "python",
            "pygments_lexer": "ipython3",
            "version": "3.9.16"
        },
        "orig_nbformat": 4,
        "vscode": {
            "interpreter": {
                "hash": "f5ada8196e3ebb687ced4013b992fdc3bca173bccfa9459fbbd595150202f8ce"
            }
        }
    },
    "nbformat": 4,
    "nbformat_minor": 2
}
