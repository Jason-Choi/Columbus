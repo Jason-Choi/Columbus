{
    "cells": [
        {
            "cell_type": "code",
            "execution_count": 4,
            "metadata": {},
            "outputs": [
                {
                    "name": "stdout",
                    "output_type": "stream",
                    "text": [
                        "The autoreload extension is already loaded. To reload it, use:\n",
                        "  %reload_ext autoreload\n"
                    ]
                },
                {
                    "data": {
                        "text/plain": [
                            "US Gross                  3060\n",
                            "Worldwide Gross           3074\n",
                            "US DVD Sales               564\n",
                            "Production Budget          381\n",
                            "MPAA Rating                  7\n",
                            "Running Time min           109\n",
                            "Distributor                174\n",
                            "Source                      18\n",
                            "Major Genre                 12\n",
                            "Creative Type                9\n",
                            "Director                   550\n",
                            "Rotten Tomatoes Rating     100\n",
                            "IMDB Rating                 77\n",
                            "IMDB Votes                2839\n",
                            "dtype: int64"
                        ]
                    },
                    "metadata": {},
                    "output_type": "display_data"
                },
                {
                    "name": "stdout",
                    "output_type": "stream",
                    "text": [
                        "<class 'pandas.core.frame.DataFrame'>\n",
                        "RangeIndex: 3201 entries, 0 to 3200\n",
                        "Data columns (total 14 columns):\n",
                        " #   Column                  Non-Null Count  Dtype  \n",
                        "---  ------                  --------------  -----  \n",
                        " 0   US Gross                3194 non-null   float64\n",
                        " 1   Worldwide Gross         3194 non-null   float64\n",
                        " 2   US DVD Sales            564 non-null    float64\n",
                        " 3   Production Budget       3200 non-null   float64\n",
                        " 4   MPAA Rating             2596 non-null   object \n",
                        " 5   Running Time min        1209 non-null   float64\n",
                        " 6   Distributor             2969 non-null   object \n",
                        " 7   Source                  2836 non-null   object \n",
                        " 8   Major Genre             2926 non-null   object \n",
                        " 9   Creative Type           2755 non-null   object \n",
                        " 10  Director                1870 non-null   object \n",
                        " 11  Rotten Tomatoes Rating  2321 non-null   float64\n",
                        " 12  IMDB Rating             2988 non-null   float64\n",
                        " 13  IMDB Votes              2988 non-null   float64\n",
                        "dtypes: float64(8), object(6)\n",
                        "memory usage: 350.2+ KB\n"
                    ]
                }
            ],
            "source": [
                "%load_ext autoreload\n",
                "%autoreload 2\n",
                "from src import TAEVA\n",
                "import pandas as pd \n",
                "\n",
                "df = pd.read_json(\"./movies.json\")\n",
                "\n",
                "df.drop(columns=[\"Release Date\", \"Title\"], inplace=True)\n",
                "\n",
                "# number of unique values\n",
                "display(df.nunique())\n",
                "\n",
                "df.head()\n",
                "df.info()"
            ]
        },
        {
            "cell_type": "code",
            "execution_count": 5,
            "metadata": {},
            "outputs": [
                {
                    "name": "stdout",
                    "output_type": "stream",
                    "text": [
                        "1470\n",
                        "51501\n"
                    ]
                }
            ],
            "source": [
                "taeva = TAEVA(df)\n",
                "print(len(taeva.nodes))\n",
                "# for node in taeva.nodes:\n",
                "#     print(node)\n",
                "#     print()\n",
                "#     print()"
            ]
        }
    ],
    "metadata": {
        "kernelspec": {
            "display_name": "taeva",
            "language": "python",
            "name": "python3"
        },
        "language_info": {
            "codemirror_mode": {
                "name": "ipython",
                "version": 3
            },
            "file_extension": ".py",
            "mimetype": "text/x-python",
            "name": "python",
            "nbconvert_exporter": "python",
            "pygments_lexer": "ipython3",
            "version": "3.9.16"
        },
        "orig_nbformat": 4,
        "vscode": {
            "interpreter": {
                "hash": "f47f890c21c6b6e804b909c922d6ee120bda9785cb4405f1ed9b6fa701e688a9"
            }
        }
    },
    "nbformat": 4,
    "nbformat_minor": 2
}
